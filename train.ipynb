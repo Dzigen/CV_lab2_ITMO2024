{
 "cells": [
  {
   "cell_type": "code",
   "execution_count": 1,
   "metadata": {},
   "outputs": [],
   "source": [
    "from ultralytics import YOLO\n",
    "import torch\n",
    "import torchvision\n",
    "from PIL import Image, ImageDraw"
   ]
  },
  {
   "cell_type": "code",
   "execution_count": 2,
   "metadata": {},
   "outputs": [
    {
     "name": "stdout",
     "output_type": "stream",
     "text": [
      "2.1.0+cu121\n",
      "0.16.0+cu121\n"
     ]
    }
   ],
   "source": [
    "print(torch.__version__)\n",
    "print(torchvision.__version__)"
   ]
  },
  {
   "cell_type": "code",
   "execution_count": null,
   "metadata": {},
   "outputs": [],
   "source": [
    "results = model.train(data='./data/config.yaml', epochs=10)"
   ]
  },
  {
   "cell_type": "markdown",
   "metadata": {},
   "source": [
    "#### 50 epoch"
   ]
  },
  {
   "cell_type": "code",
   "execution_count": 2,
   "metadata": {},
   "outputs": [
    {
     "name": "stdout",
     "output_type": "stream",
     "text": [
      "Number of parameters:  3012798\n"
     ]
    }
   ],
   "source": [
    "model = YOLO('./runs1_50e/detect/train/weights/best.pt')\n",
    "print(\"Number of parameters: \", sum([p.numel() for p in model.parameters()]))"
   ]
  },
  {
   "cell_type": "code",
   "execution_count": 3,
   "metadata": {},
   "outputs": [
    {
     "name": "stdout",
     "output_type": "stream",
     "text": [
      "Ultralytics YOLOv8.1.31 🚀 Python-3.11.4 torch-2.1.0+cu121 CUDA:0 (NVIDIA GeForce GTX 1050 Ti, 4036MiB)\n",
      "Model summary (fused): 168 layers, 3007598 parameters, 0 gradients, 8.1 GFLOPs\n"
     ]
    },
    {
     "name": "stderr",
     "output_type": "stream",
     "text": [
      "\u001b[34m\u001b[1mval: \u001b[0mScanning /home/dzigen/Desktop/ITMO/sem1/ImgGen/Лабы/lab2/data/yolo8_f/test/labels.cache... 13057 images, 0 backgrounds, 39 corrupt: 100%|██████████| 13057/13057 [00:00<?, ?it/s]"
     ]
    },
    {
     "name": "stdout",
     "output_type": "stream",
     "text": [
      "\u001b[34m\u001b[1mval: \u001b[0mWARNING ⚠️ /home/dzigen/Desktop/ITMO/sem1/ImgGen/Лабы/lab2/data/yolo8_f/test/images/10312.png: ignoring corrupt image/label: non-normalized or out of bounds coordinates [      1.023]\n",
      "\u001b[34m\u001b[1mval: \u001b[0mWARNING ⚠️ /home/dzigen/Desktop/ITMO/sem1/ImgGen/Лабы/lab2/data/yolo8_f/test/images/11625.png: ignoring corrupt image/label: non-normalized or out of bounds coordinates [      1.038]\n",
      "\u001b[34m\u001b[1mval: \u001b[0mWARNING ⚠️ /home/dzigen/Desktop/ITMO/sem1/ImgGen/Лабы/lab2/data/yolo8_f/test/images/11792.png: ignoring corrupt image/label: non-normalized or out of bounds coordinates [      1.053]\n",
      "\u001b[34m\u001b[1mval: \u001b[0mWARNING ⚠️ /home/dzigen/Desktop/ITMO/sem1/ImgGen/Лабы/lab2/data/yolo8_f/test/images/11827.png: ignoring corrupt image/label: non-normalized or out of bounds coordinates [      1.064]\n",
      "\u001b[34m\u001b[1mval: \u001b[0mWARNING ⚠️ /home/dzigen/Desktop/ITMO/sem1/ImgGen/Лабы/lab2/data/yolo8_f/test/images/12226.png: ignoring corrupt image/label: non-normalized or out of bounds coordinates [      1.066]\n",
      "\u001b[34m\u001b[1mval: \u001b[0mWARNING ⚠️ /home/dzigen/Desktop/ITMO/sem1/ImgGen/Лабы/lab2/data/yolo8_f/test/images/12434.png: ignoring corrupt image/label: negative label values [     -0.005]\n",
      "\u001b[34m\u001b[1mval: \u001b[0mWARNING ⚠️ /home/dzigen/Desktop/ITMO/sem1/ImgGen/Лабы/lab2/data/yolo8_f/test/images/12729.png: ignoring corrupt image/label: non-normalized or out of bounds coordinates [      1.042]\n",
      "\u001b[34m\u001b[1mval: \u001b[0mWARNING ⚠️ /home/dzigen/Desktop/ITMO/sem1/ImgGen/Лабы/lab2/data/yolo8_f/test/images/1286.png: ignoring corrupt image/label: non-normalized or out of bounds coordinates [      1.018]\n",
      "\u001b[34m\u001b[1mval: \u001b[0mWARNING ⚠️ /home/dzigen/Desktop/ITMO/sem1/ImgGen/Лабы/lab2/data/yolo8_f/test/images/174.png: ignoring corrupt image/label: non-normalized or out of bounds coordinates [      1.011]\n",
      "\u001b[34m\u001b[1mval: \u001b[0mWARNING ⚠️ /home/dzigen/Desktop/ITMO/sem1/ImgGen/Лабы/lab2/data/yolo8_f/test/images/2579.png: ignoring corrupt image/label: non-normalized or out of bounds coordinates [      1.071]\n",
      "\u001b[34m\u001b[1mval: \u001b[0mWARNING ⚠️ /home/dzigen/Desktop/ITMO/sem1/ImgGen/Лабы/lab2/data/yolo8_f/test/images/2613.png: ignoring corrupt image/label: negative label values [     -0.005]\n",
      "\u001b[34m\u001b[1mval: \u001b[0mWARNING ⚠️ /home/dzigen/Desktop/ITMO/sem1/ImgGen/Лабы/lab2/data/yolo8_f/test/images/3005.png: ignoring corrupt image/label: non-normalized or out of bounds coordinates [      1.025]\n",
      "\u001b[34m\u001b[1mval: \u001b[0mWARNING ⚠️ /home/dzigen/Desktop/ITMO/sem1/ImgGen/Лабы/lab2/data/yolo8_f/test/images/3170.png: ignoring corrupt image/label: non-normalized or out of bounds coordinates [       1.04]\n",
      "\u001b[34m\u001b[1mval: \u001b[0mWARNING ⚠️ /home/dzigen/Desktop/ITMO/sem1/ImgGen/Лабы/lab2/data/yolo8_f/test/images/3192.png: ignoring corrupt image/label: non-normalized or out of bounds coordinates [      1.242]\n",
      "\u001b[34m\u001b[1mval: \u001b[0mWARNING ⚠️ /home/dzigen/Desktop/ITMO/sem1/ImgGen/Лабы/lab2/data/yolo8_f/test/images/3223.png: ignoring corrupt image/label: non-normalized or out of bounds coordinates [      1.056]\n",
      "\u001b[34m\u001b[1mval: \u001b[0mWARNING ⚠️ /home/dzigen/Desktop/ITMO/sem1/ImgGen/Лабы/lab2/data/yolo8_f/test/images/3343.png: ignoring corrupt image/label: non-normalized or out of bounds coordinates [       1.05]\n",
      "\u001b[34m\u001b[1mval: \u001b[0mWARNING ⚠️ /home/dzigen/Desktop/ITMO/sem1/ImgGen/Лабы/lab2/data/yolo8_f/test/images/344.png: ignoring corrupt image/label: negative label values [      -0.02]\n",
      "\u001b[34m\u001b[1mval: \u001b[0mWARNING ⚠️ /home/dzigen/Desktop/ITMO/sem1/ImgGen/Лабы/lab2/data/yolo8_f/test/images/3940.png: ignoring corrupt image/label: non-normalized or out of bounds coordinates [      1.108]\n",
      "\u001b[34m\u001b[1mval: \u001b[0mWARNING ⚠️ /home/dzigen/Desktop/ITMO/sem1/ImgGen/Лабы/lab2/data/yolo8_f/test/images/4381.png: ignoring corrupt image/label: non-normalized or out of bounds coordinates [      1.015]\n",
      "\u001b[34m\u001b[1mval: \u001b[0mWARNING ⚠️ /home/dzigen/Desktop/ITMO/sem1/ImgGen/Лабы/lab2/data/yolo8_f/test/images/439.png: ignoring corrupt image/label: negative label values [     -0.003]\n",
      "\u001b[34m\u001b[1mval: \u001b[0mWARNING ⚠️ /home/dzigen/Desktop/ITMO/sem1/ImgGen/Лабы/lab2/data/yolo8_f/test/images/4942.png: ignoring corrupt image/label: non-normalized or out of bounds coordinates [      1.045]\n",
      "\u001b[34m\u001b[1mval: \u001b[0mWARNING ⚠️ /home/dzigen/Desktop/ITMO/sem1/ImgGen/Лабы/lab2/data/yolo8_f/test/images/5072.png: ignoring corrupt image/label: non-normalized or out of bounds coordinates [      1.059]\n",
      "\u001b[34m\u001b[1mval: \u001b[0mWARNING ⚠️ /home/dzigen/Desktop/ITMO/sem1/ImgGen/Лабы/lab2/data/yolo8_f/test/images/521.png: ignoring corrupt image/label: negative label values [      -0.01]\n",
      "\u001b[34m\u001b[1mval: \u001b[0mWARNING ⚠️ /home/dzigen/Desktop/ITMO/sem1/ImgGen/Лабы/lab2/data/yolo8_f/test/images/5260.png: ignoring corrupt image/label: non-normalized or out of bounds coordinates [      1.053]\n",
      "\u001b[34m\u001b[1mval: \u001b[0mWARNING ⚠️ /home/dzigen/Desktop/ITMO/sem1/ImgGen/Лабы/lab2/data/yolo8_f/test/images/5393.png: ignoring corrupt image/label: non-normalized or out of bounds coordinates [      1.102]\n",
      "\u001b[34m\u001b[1mval: \u001b[0mWARNING ⚠️ /home/dzigen/Desktop/ITMO/sem1/ImgGen/Лабы/lab2/data/yolo8_f/test/images/5599.png: ignoring corrupt image/label: non-normalized or out of bounds coordinates [      1.008]\n",
      "\u001b[34m\u001b[1mval: \u001b[0mWARNING ⚠️ /home/dzigen/Desktop/ITMO/sem1/ImgGen/Лабы/lab2/data/yolo8_f/test/images/5640.png: ignoring corrupt image/label: non-normalized or out of bounds coordinates [      1.051]\n",
      "\u001b[34m\u001b[1mval: \u001b[0mWARNING ⚠️ /home/dzigen/Desktop/ITMO/sem1/ImgGen/Лабы/lab2/data/yolo8_f/test/images/6310.png: ignoring corrupt image/label: non-normalized or out of bounds coordinates [       1.04]\n",
      "\u001b[34m\u001b[1mval: \u001b[0mWARNING ⚠️ /home/dzigen/Desktop/ITMO/sem1/ImgGen/Лабы/lab2/data/yolo8_f/test/images/6390.png: ignoring corrupt image/label: non-normalized or out of bounds coordinates [       1.02]\n",
      "\u001b[34m\u001b[1mval: \u001b[0mWARNING ⚠️ /home/dzigen/Desktop/ITMO/sem1/ImgGen/Лабы/lab2/data/yolo8_f/test/images/644.png: ignoring corrupt image/label: non-normalized or out of bounds coordinates [      1.023]\n",
      "\u001b[34m\u001b[1mval: \u001b[0mWARNING ⚠️ /home/dzigen/Desktop/ITMO/sem1/ImgGen/Лабы/lab2/data/yolo8_f/test/images/6597.png: ignoring corrupt image/label: non-normalized or out of bounds coordinates [      1.023]\n",
      "\u001b[34m\u001b[1mval: \u001b[0mWARNING ⚠️ /home/dzigen/Desktop/ITMO/sem1/ImgGen/Лабы/lab2/data/yolo8_f/test/images/6916.png: ignoring corrupt image/label: non-normalized or out of bounds coordinates [      1.048]\n",
      "\u001b[34m\u001b[1mval: \u001b[0mWARNING ⚠️ /home/dzigen/Desktop/ITMO/sem1/ImgGen/Лабы/lab2/data/yolo8_f/test/images/7267.png: ignoring corrupt image/label: non-normalized or out of bounds coordinates [      1.091]\n",
      "\u001b[34m\u001b[1mval: \u001b[0mWARNING ⚠️ /home/dzigen/Desktop/ITMO/sem1/ImgGen/Лабы/lab2/data/yolo8_f/test/images/7636.png: ignoring corrupt image/label: negative label values [     -0.015]\n",
      "\u001b[34m\u001b[1mval: \u001b[0mWARNING ⚠️ /home/dzigen/Desktop/ITMO/sem1/ImgGen/Лабы/lab2/data/yolo8_f/test/images/8125.png: ignoring corrupt image/label: non-normalized or out of bounds coordinates [      1.064]\n",
      "\u001b[34m\u001b[1mval: \u001b[0mWARNING ⚠️ /home/dzigen/Desktop/ITMO/sem1/ImgGen/Лабы/lab2/data/yolo8_f/test/images/8690.png: ignoring corrupt image/label: non-normalized or out of bounds coordinates [      1.132]\n",
      "\u001b[34m\u001b[1mval: \u001b[0mWARNING ⚠️ /home/dzigen/Desktop/ITMO/sem1/ImgGen/Лабы/lab2/data/yolo8_f/test/images/8885.png: ignoring corrupt image/label: negative label values [      -0.02]\n",
      "\u001b[34m\u001b[1mval: \u001b[0mWARNING ⚠️ /home/dzigen/Desktop/ITMO/sem1/ImgGen/Лабы/lab2/data/yolo8_f/test/images/9727.png: ignoring corrupt image/label: non-normalized or out of bounds coordinates [       1.09]\n",
      "\u001b[34m\u001b[1mval: \u001b[0mWARNING ⚠️ /home/dzigen/Desktop/ITMO/sem1/ImgGen/Лабы/lab2/data/yolo8_f/test/images/989.png: ignoring corrupt image/label: non-normalized or out of bounds coordinates [      1.058]\n"
     ]
    },
    {
     "name": "stderr",
     "output_type": "stream",
     "text": [
      "\n",
      "                 Class     Images  Instances      Box(P          R      mAP50  mAP50-95): 100%|██████████| 814/814 [02:13<00:00,  6.12it/s]\n"
     ]
    },
    {
     "name": "stdout",
     "output_type": "stream",
     "text": [
      "                   all      13018      25933      0.937      0.915      0.956       0.77\n",
      "                     0      13018       1725      0.933      0.947      0.959      0.789\n",
      "                     1      13018       5088      0.935      0.893      0.935      0.732\n",
      "                     2      13018       4135      0.966      0.927       0.96      0.774\n",
      "                     3      13018       2874      0.949      0.881      0.948      0.761\n",
      "                     4      13018       2512      0.955      0.928      0.958      0.759\n",
      "                     5      13018       2379      0.947      0.926      0.963      0.783\n",
      "                     6      13018       1968      0.948      0.908      0.961      0.776\n",
      "                     7      13018       2011      0.949      0.928      0.964      0.782\n",
      "                     8      13018       1651      0.873      0.888      0.948      0.758\n",
      "                     9      13018       1590      0.915      0.927       0.96      0.784\n",
      "Speed: 0.2ms preprocess, 4.0ms inference, 0.0ms loss, 0.8ms postprocess per image\n",
      "Results saved to \u001b[1mruns/detect/val2\u001b[0m\n"
     ]
    }
   ],
   "source": [
    "metrics = model.val(data='./data/config.yaml')"
   ]
  },
  {
   "cell_type": "markdown",
   "metadata": {},
   "source": [
    "#### 100 epoch"
   ]
  },
  {
   "cell_type": "code",
   "execution_count": 4,
   "metadata": {},
   "outputs": [
    {
     "name": "stdout",
     "output_type": "stream",
     "text": [
      "Number of parameters:  3012798\n"
     ]
    }
   ],
   "source": [
    "model = YOLO('./runs2_100e/detect/train/weights/best.pt')\n",
    "print(\"Number of parameters: \", sum([p.numel() for p in model.parameters()]))"
   ]
  },
  {
   "cell_type": "code",
   "execution_count": 5,
   "metadata": {},
   "outputs": [
    {
     "name": "stdout",
     "output_type": "stream",
     "text": [
      "Ultralytics YOLOv8.1.31 🚀 Python-3.11.4 torch-2.1.0+cu121 CUDA:0 (NVIDIA GeForce GTX 1050 Ti, 4036MiB)\n",
      "Model summary (fused): 168 layers, 3007598 parameters, 0 gradients, 8.1 GFLOPs\n"
     ]
    },
    {
     "name": "stderr",
     "output_type": "stream",
     "text": [
      "\u001b[34m\u001b[1mval: \u001b[0mScanning /home/dzigen/Desktop/ITMO/sem1/ImgGen/Лабы/lab2/data/yolo8_f/test/labels.cache... 13057 images, 0 backgrounds, 39 corrupt: 100%|██████████| 13057/13057 [00:00<?, ?it/s]"
     ]
    },
    {
     "name": "stdout",
     "output_type": "stream",
     "text": [
      "\u001b[34m\u001b[1mval: \u001b[0mWARNING ⚠️ /home/dzigen/Desktop/ITMO/sem1/ImgGen/Лабы/lab2/data/yolo8_f/test/images/10312.png: ignoring corrupt image/label: non-normalized or out of bounds coordinates [      1.023]\n",
      "\u001b[34m\u001b[1mval: \u001b[0mWARNING ⚠️ /home/dzigen/Desktop/ITMO/sem1/ImgGen/Лабы/lab2/data/yolo8_f/test/images/11625.png: ignoring corrupt image/label: non-normalized or out of bounds coordinates [      1.038]\n",
      "\u001b[34m\u001b[1mval: \u001b[0mWARNING ⚠️ /home/dzigen/Desktop/ITMO/sem1/ImgGen/Лабы/lab2/data/yolo8_f/test/images/11792.png: ignoring corrupt image/label: non-normalized or out of bounds coordinates [      1.053]\n",
      "\u001b[34m\u001b[1mval: \u001b[0mWARNING ⚠️ /home/dzigen/Desktop/ITMO/sem1/ImgGen/Лабы/lab2/data/yolo8_f/test/images/11827.png: ignoring corrupt image/label: non-normalized or out of bounds coordinates [      1.064]\n",
      "\u001b[34m\u001b[1mval: \u001b[0mWARNING ⚠️ /home/dzigen/Desktop/ITMO/sem1/ImgGen/Лабы/lab2/data/yolo8_f/test/images/12226.png: ignoring corrupt image/label: non-normalized or out of bounds coordinates [      1.066]\n",
      "\u001b[34m\u001b[1mval: \u001b[0mWARNING ⚠️ /home/dzigen/Desktop/ITMO/sem1/ImgGen/Лабы/lab2/data/yolo8_f/test/images/12434.png: ignoring corrupt image/label: negative label values [     -0.005]\n",
      "\u001b[34m\u001b[1mval: \u001b[0mWARNING ⚠️ /home/dzigen/Desktop/ITMO/sem1/ImgGen/Лабы/lab2/data/yolo8_f/test/images/12729.png: ignoring corrupt image/label: non-normalized or out of bounds coordinates [      1.042]\n",
      "\u001b[34m\u001b[1mval: \u001b[0mWARNING ⚠️ /home/dzigen/Desktop/ITMO/sem1/ImgGen/Лабы/lab2/data/yolo8_f/test/images/1286.png: ignoring corrupt image/label: non-normalized or out of bounds coordinates [      1.018]\n",
      "\u001b[34m\u001b[1mval: \u001b[0mWARNING ⚠️ /home/dzigen/Desktop/ITMO/sem1/ImgGen/Лабы/lab2/data/yolo8_f/test/images/174.png: ignoring corrupt image/label: non-normalized or out of bounds coordinates [      1.011]\n",
      "\u001b[34m\u001b[1mval: \u001b[0mWARNING ⚠️ /home/dzigen/Desktop/ITMO/sem1/ImgGen/Лабы/lab2/data/yolo8_f/test/images/2579.png: ignoring corrupt image/label: non-normalized or out of bounds coordinates [      1.071]\n",
      "\u001b[34m\u001b[1mval: \u001b[0mWARNING ⚠️ /home/dzigen/Desktop/ITMO/sem1/ImgGen/Лабы/lab2/data/yolo8_f/test/images/2613.png: ignoring corrupt image/label: negative label values [     -0.005]\n",
      "\u001b[34m\u001b[1mval: \u001b[0mWARNING ⚠️ /home/dzigen/Desktop/ITMO/sem1/ImgGen/Лабы/lab2/data/yolo8_f/test/images/3005.png: ignoring corrupt image/label: non-normalized or out of bounds coordinates [      1.025]\n",
      "\u001b[34m\u001b[1mval: \u001b[0mWARNING ⚠️ /home/dzigen/Desktop/ITMO/sem1/ImgGen/Лабы/lab2/data/yolo8_f/test/images/3170.png: ignoring corrupt image/label: non-normalized or out of bounds coordinates [       1.04]\n",
      "\u001b[34m\u001b[1mval: \u001b[0mWARNING ⚠️ /home/dzigen/Desktop/ITMO/sem1/ImgGen/Лабы/lab2/data/yolo8_f/test/images/3192.png: ignoring corrupt image/label: non-normalized or out of bounds coordinates [      1.242]\n",
      "\u001b[34m\u001b[1mval: \u001b[0mWARNING ⚠️ /home/dzigen/Desktop/ITMO/sem1/ImgGen/Лабы/lab2/data/yolo8_f/test/images/3223.png: ignoring corrupt image/label: non-normalized or out of bounds coordinates [      1.056]\n",
      "\u001b[34m\u001b[1mval: \u001b[0mWARNING ⚠️ /home/dzigen/Desktop/ITMO/sem1/ImgGen/Лабы/lab2/data/yolo8_f/test/images/3343.png: ignoring corrupt image/label: non-normalized or out of bounds coordinates [       1.05]\n",
      "\u001b[34m\u001b[1mval: \u001b[0mWARNING ⚠️ /home/dzigen/Desktop/ITMO/sem1/ImgGen/Лабы/lab2/data/yolo8_f/test/images/344.png: ignoring corrupt image/label: negative label values [      -0.02]\n",
      "\u001b[34m\u001b[1mval: \u001b[0mWARNING ⚠️ /home/dzigen/Desktop/ITMO/sem1/ImgGen/Лабы/lab2/data/yolo8_f/test/images/3940.png: ignoring corrupt image/label: non-normalized or out of bounds coordinates [      1.108]\n",
      "\u001b[34m\u001b[1mval: \u001b[0mWARNING ⚠️ /home/dzigen/Desktop/ITMO/sem1/ImgGen/Лабы/lab2/data/yolo8_f/test/images/4381.png: ignoring corrupt image/label: non-normalized or out of bounds coordinates [      1.015]\n",
      "\u001b[34m\u001b[1mval: \u001b[0mWARNING ⚠️ /home/dzigen/Desktop/ITMO/sem1/ImgGen/Лабы/lab2/data/yolo8_f/test/images/439.png: ignoring corrupt image/label: negative label values [     -0.003]\n",
      "\u001b[34m\u001b[1mval: \u001b[0mWARNING ⚠️ /home/dzigen/Desktop/ITMO/sem1/ImgGen/Лабы/lab2/data/yolo8_f/test/images/4942.png: ignoring corrupt image/label: non-normalized or out of bounds coordinates [      1.045]\n",
      "\u001b[34m\u001b[1mval: \u001b[0mWARNING ⚠️ /home/dzigen/Desktop/ITMO/sem1/ImgGen/Лабы/lab2/data/yolo8_f/test/images/5072.png: ignoring corrupt image/label: non-normalized or out of bounds coordinates [      1.059]\n",
      "\u001b[34m\u001b[1mval: \u001b[0mWARNING ⚠️ /home/dzigen/Desktop/ITMO/sem1/ImgGen/Лабы/lab2/data/yolo8_f/test/images/521.png: ignoring corrupt image/label: negative label values [      -0.01]\n",
      "\u001b[34m\u001b[1mval: \u001b[0mWARNING ⚠️ /home/dzigen/Desktop/ITMO/sem1/ImgGen/Лабы/lab2/data/yolo8_f/test/images/5260.png: ignoring corrupt image/label: non-normalized or out of bounds coordinates [      1.053]\n",
      "\u001b[34m\u001b[1mval: \u001b[0mWARNING ⚠️ /home/dzigen/Desktop/ITMO/sem1/ImgGen/Лабы/lab2/data/yolo8_f/test/images/5393.png: ignoring corrupt image/label: non-normalized or out of bounds coordinates [      1.102]\n",
      "\u001b[34m\u001b[1mval: \u001b[0mWARNING ⚠️ /home/dzigen/Desktop/ITMO/sem1/ImgGen/Лабы/lab2/data/yolo8_f/test/images/5599.png: ignoring corrupt image/label: non-normalized or out of bounds coordinates [      1.008]\n",
      "\u001b[34m\u001b[1mval: \u001b[0mWARNING ⚠️ /home/dzigen/Desktop/ITMO/sem1/ImgGen/Лабы/lab2/data/yolo8_f/test/images/5640.png: ignoring corrupt image/label: non-normalized or out of bounds coordinates [      1.051]\n",
      "\u001b[34m\u001b[1mval: \u001b[0mWARNING ⚠️ /home/dzigen/Desktop/ITMO/sem1/ImgGen/Лабы/lab2/data/yolo8_f/test/images/6310.png: ignoring corrupt image/label: non-normalized or out of bounds coordinates [       1.04]\n",
      "\u001b[34m\u001b[1mval: \u001b[0mWARNING ⚠️ /home/dzigen/Desktop/ITMO/sem1/ImgGen/Лабы/lab2/data/yolo8_f/test/images/6390.png: ignoring corrupt image/label: non-normalized or out of bounds coordinates [       1.02]\n",
      "\u001b[34m\u001b[1mval: \u001b[0mWARNING ⚠️ /home/dzigen/Desktop/ITMO/sem1/ImgGen/Лабы/lab2/data/yolo8_f/test/images/644.png: ignoring corrupt image/label: non-normalized or out of bounds coordinates [      1.023]\n",
      "\u001b[34m\u001b[1mval: \u001b[0mWARNING ⚠️ /home/dzigen/Desktop/ITMO/sem1/ImgGen/Лабы/lab2/data/yolo8_f/test/images/6597.png: ignoring corrupt image/label: non-normalized or out of bounds coordinates [      1.023]\n",
      "\u001b[34m\u001b[1mval: \u001b[0mWARNING ⚠️ /home/dzigen/Desktop/ITMO/sem1/ImgGen/Лабы/lab2/data/yolo8_f/test/images/6916.png: ignoring corrupt image/label: non-normalized or out of bounds coordinates [      1.048]\n",
      "\u001b[34m\u001b[1mval: \u001b[0mWARNING ⚠️ /home/dzigen/Desktop/ITMO/sem1/ImgGen/Лабы/lab2/data/yolo8_f/test/images/7267.png: ignoring corrupt image/label: non-normalized or out of bounds coordinates [      1.091]\n",
      "\u001b[34m\u001b[1mval: \u001b[0mWARNING ⚠️ /home/dzigen/Desktop/ITMO/sem1/ImgGen/Лабы/lab2/data/yolo8_f/test/images/7636.png: ignoring corrupt image/label: negative label values [     -0.015]\n",
      "\u001b[34m\u001b[1mval: \u001b[0mWARNING ⚠️ /home/dzigen/Desktop/ITMO/sem1/ImgGen/Лабы/lab2/data/yolo8_f/test/images/8125.png: ignoring corrupt image/label: non-normalized or out of bounds coordinates [      1.064]\n",
      "\u001b[34m\u001b[1mval: \u001b[0mWARNING ⚠️ /home/dzigen/Desktop/ITMO/sem1/ImgGen/Лабы/lab2/data/yolo8_f/test/images/8690.png: ignoring corrupt image/label: non-normalized or out of bounds coordinates [      1.132]\n",
      "\u001b[34m\u001b[1mval: \u001b[0mWARNING ⚠️ /home/dzigen/Desktop/ITMO/sem1/ImgGen/Лабы/lab2/data/yolo8_f/test/images/8885.png: ignoring corrupt image/label: negative label values [      -0.02]\n",
      "\u001b[34m\u001b[1mval: \u001b[0mWARNING ⚠️ /home/dzigen/Desktop/ITMO/sem1/ImgGen/Лабы/lab2/data/yolo8_f/test/images/9727.png: ignoring corrupt image/label: non-normalized or out of bounds coordinates [       1.09]\n",
      "\u001b[34m\u001b[1mval: \u001b[0mWARNING ⚠️ /home/dzigen/Desktop/ITMO/sem1/ImgGen/Лабы/lab2/data/yolo8_f/test/images/989.png: ignoring corrupt image/label: non-normalized or out of bounds coordinates [      1.058]\n"
     ]
    },
    {
     "name": "stderr",
     "output_type": "stream",
     "text": [
      "\n",
      "                 Class     Images  Instances      Box(P          R      mAP50  mAP50-95): 100%|██████████| 814/814 [01:28<00:00,  9.16it/s]\n"
     ]
    },
    {
     "name": "stdout",
     "output_type": "stream",
     "text": [
      "                   all      13018      25933      0.942      0.916      0.955      0.771\n",
      "                     0      13018       1725      0.944      0.934      0.959      0.789\n",
      "                     1      13018       5088      0.942      0.894      0.932      0.733\n",
      "                     2      13018       4135      0.966      0.929      0.959      0.776\n",
      "                     3      13018       2874      0.951      0.882      0.942      0.758\n",
      "                     4      13018       2512      0.957      0.929       0.96      0.765\n",
      "                     5      13018       2379      0.959      0.927      0.961      0.783\n",
      "                     6      13018       1968      0.946      0.917      0.961      0.778\n",
      "                     7      13018       2011      0.951      0.932      0.965      0.783\n",
      "                     8      13018       1651      0.882      0.892       0.95      0.761\n",
      "                     9      13018       1590      0.924      0.925      0.955      0.779\n",
      "Speed: 0.2ms preprocess, 4.0ms inference, 0.0ms loss, 0.6ms postprocess per image\n",
      "Results saved to \u001b[1mruns/detect/val3\u001b[0m\n"
     ]
    }
   ],
   "source": [
    "metrics = model.val(data='./data/config.yaml')"
   ]
  },
  {
   "cell_type": "code",
   "execution_count": 21,
   "metadata": {},
   "outputs": [],
   "source": [
    "def draw_annotated_image(image_path, prediction):\n",
    "\n",
    "    img = Image.open(image_path)\n",
    "    img_copy = img.copy()\n",
    "    draw = ImageDraw.Draw(img_copy)\n",
    "\n",
    "    colors = ['red', 'blue', 'green', 'yellow', 'black', 'orange'] * results[0].boxes.xywh.shape[0]\n",
    "\n",
    "    for i, box in enumerate(results[0].boxes.xywh):\n",
    "        x,y,w,h = box\n",
    "        print(colors[i], int(prediction[0].boxes.cls[i].cpu()))\n",
    "        draw.rectangle((x - w/2, y - h/2, x + w/2, y + h/2), outline=colors[i], width=1)\n",
    "\n",
    "    img_copy.show()"
   ]
  },
  {
   "cell_type": "code",
   "execution_count": 17,
   "metadata": {},
   "outputs": [],
   "source": [
    "# 50: 0.937      0.915      0.956       0.77\n",
    "# 100: 0.942      0.916      0.955      0.771"
   ]
  },
  {
   "cell_type": "code",
   "execution_count": 33,
   "metadata": {},
   "outputs": [
    {
     "name": "stdout",
     "output_type": "stream",
     "text": [
      "\n",
      "image 1/1 /home/dzigen/Desktop/ITMO/sem1/ImgGen/Лабы/lab2/data/yolo8_f/test/images/13052.png: 224x640 1 5, 13.2ms\n",
      "Speed: 1.2ms preprocess, 13.2ms inference, 1.3ms postprocess per image at shape (1, 3, 224, 640)\n",
      "red 5\n"
     ]
    }
   ],
   "source": [
    "# Predict with the model\n",
    "image_path = '/home/dzigen/Desktop/ITMO/sem1/ImgGen/Лабы/lab2/data/yolo8_f/test/images/13052.png'\n",
    "results = model(image_path)  # predict on an image\n",
    "draw_annotated_image(image_path, results)"
   ]
  },
  {
   "cell_type": "code",
   "execution_count": null,
   "metadata": {},
   "outputs": [],
   "source": [
    "results[0].boxes"
   ]
  },
  {
   "cell_type": "code",
   "execution_count": 27,
   "metadata": {},
   "outputs": [],
   "source": [
    "results[0].show()"
   ]
  },
  {
   "cell_type": "code",
   "execution_count": null,
   "metadata": {},
   "outputs": [],
   "source": []
  }
 ],
 "metadata": {
  "kernelspec": {
   "display_name": "base",
   "language": "python",
   "name": "python3"
  },
  "language_info": {
   "codemirror_mode": {
    "name": "ipython",
    "version": 3
   },
   "file_extension": ".py",
   "mimetype": "text/x-python",
   "name": "python",
   "nbconvert_exporter": "python",
   "pygments_lexer": "ipython3",
   "version": "3.11.4"
  }
 },
 "nbformat": 4,
 "nbformat_minor": 2
}
