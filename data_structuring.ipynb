{
 "cells": [
  {
   "cell_type": "markdown",
   "metadata": {},
   "source": [
    "* https://medium.com/@beyzaakyildiz/what-is-yolov8-how-to-use-it-b3807d13c5ce\n",
    "* https://docs.ultralytics.com/modes/train/#usage-examples"
   ]
  },
  {
   "cell_type": "code",
   "execution_count": 2,
   "metadata": {},
   "outputs": [],
   "source": [
    "import scipy.io\n",
    "import numpy as np\n",
    "import h5py\n",
    "import os\n",
    "from PIL import Image, ImageDraw, ImageFont\n",
    "from tqdm import tqdm\n",
    "import gc\n",
    "from collections import Counter"
   ]
  },
  {
   "cell_type": "code",
   "execution_count": 3,
   "metadata": {},
   "outputs": [],
   "source": [
    "def mat_to_dataset(mat_path):\n",
    "    f = h5py.File(mat_path, mode='r')\n",
    "    datasets = {}\n",
    "    files_count = len(f['digitStruct']['name'])\n",
    "    for i in range(files_count):\n",
    "        name_uint16 = f[f['digitStruct']['name'][i,0]][:]\n",
    "        name = ''.join(chr(n[0]) for n in name_uint16)\n",
    "        \n",
    "        bbox = {}\n",
    "        box_i = f[f['digitStruct']['bbox'][i,0]]\n",
    "        length = box_i['label'].shape[0]\n",
    "        for key in ['height', 'label', 'left', 'top', 'width']:\n",
    "            l = []\n",
    "            if key=='label':\n",
    "                l = [ int(str(int(f[box_i[key][index,0]][0][0]))[-1]) if length > 1 else int(box_i[key][0][0]) for index in range(length) ]\n",
    "            else:\n",
    "                l = [ int(f[box_i[key][index,0]][0][0]) if length > 1 else int(box_i[key][0][0]) for index in range(length) ]\n",
    "            bbox[key] = l\n",
    "        datasets[name] = bbox\n",
    "        print(f'Loading {i} / {files_count}.\\r', end='') \n",
    "    print() \n",
    "    print(f'{i+1} records loaded.') \n",
    "    return datasets"
   ]
  },
  {
   "cell_type": "code",
   "execution_count": 4,
   "metadata": {},
   "outputs": [],
   "source": [
    "TRAIN_ANNOTATION_F = './data/meta_data/train_digitStruct.mat'\n",
    "TEST_ANNOTATION_F = './data/meta_data/test_digitStruct.mat'"
   ]
  },
  {
   "cell_type": "code",
   "execution_count": 5,
   "metadata": {},
   "outputs": [],
   "source": [
    "def mat2yolo(file, data_dir):\n",
    "    gc.collect()\n",
    "    annots = mat_to_dataset(file)\n",
    "\n",
    "    images_dir = f'{data_dir}/images'\n",
    "    labels_dir = f'{data_dir}/labels'\n",
    "    label_frequency = []\n",
    "    corrupted_images = []\n",
    "    for image_name, image_data in tqdm(annots.items()):\n",
    "        \n",
    "        image = Image.open(f\"{images_dir}/{image_name}\")\n",
    "        img_w, img_h = image.size\n",
    "        image.close()\n",
    "\n",
    "        #\n",
    "        yolo8_img_data = []\n",
    "        corrupted = False\n",
    "        for i in range(len(image_data['label'])):\n",
    "            label = image_data['label'][i]\n",
    "\n",
    "            if label == 10:\n",
    "                corrupted_images.append(image_name)\n",
    "                corrupted = True\n",
    "                break\n",
    "\n",
    "            # 0...224 -> 0...1\n",
    "            norm_tl_xy = image_data['left'][i] / img_w, image_data['top'][i] / img_h\n",
    "            norm_br_xy =  (image_data['left'][i] + image_data['width'][i]) / img_w, (image_data['top'][i] + image_data['height'][i]) / img_h\n",
    "\n",
    "            yolo8_img_data.append(' '.join(map(lambda x: str(round(x,3)), [\n",
    "                label, norm_tl_xy[0], norm_tl_xy[1], \n",
    "                norm_br_xy[0], norm_br_xy[1]])))\n",
    "\n",
    "        #\n",
    "        if not corrupted:\n",
    "            label_frequency += image_data['label']\n",
    "            yolo8_img_txt = image_name.split('.')[0]\n",
    "            with open(f\"{labels_dir}/{yolo8_img_txt}.txt\", 'w', encoding='utf-8') as fd:\n",
    "                yolo8_img_dump = '\\n'.join(yolo8_img_data)\n",
    "                fd.write(yolo8_img_dump)\n",
    "\n",
    "    print(Counter(label_frequency))\n",
    "    return corrupted_images\n",
    "\n",
    "def move_corrupted_images(images, part):\n",
    "    corrupted_dir = f'./data/corrupted_images/{part}'\n",
    "    images_dir = f'./data/yolo8_f/{part}/images'\n",
    "    for image_name in tqdm(images):\n",
    "        os.rename(f\"{images_dir}/{image_name}\", f\"{corrupted_dir}/{image_name}\")"
   ]
  },
  {
   "cell_type": "code",
   "execution_count": 5,
   "metadata": {},
   "outputs": [
    {
     "name": "stdout",
     "output_type": "stream",
     "text": [
      "Loading 13067 / 13068.\n",
      "13068 records loaded.\n"
     ]
    },
    {
     "name": "stderr",
     "output_type": "stream",
     "text": [
      "100%|██████████| 13068/13068 [00:01<00:00, 11218.46it/s]"
     ]
    },
    {
     "name": "stdout",
     "output_type": "stream",
     "text": [
      "Counter({1: 5099, 2: 4149, 3: 2882, 4: 2523, 5: 2384, 7: 2019, 6: 1977, 0: 1733, 8: 1660, 9: 1595})\n"
     ]
    },
    {
     "name": "stderr",
     "output_type": "stream",
     "text": [
      "\n"
     ]
    }
   ],
   "source": [
    "corr_test_images = mat2yolo(TEST_ANNOTATION_F, \"./data/yolo8_f/test\")\n",
    "#move_corrupted_images(corr_test_images, 'test')"
   ]
  },
  {
   "cell_type": "code",
   "execution_count": 6,
   "metadata": {},
   "outputs": [
    {
     "name": "stdout",
     "output_type": "stream",
     "text": [
      "Loading 33401 / 33402.\n",
      "33402 records loaded.\n"
     ]
    },
    {
     "name": "stderr",
     "output_type": "stream",
     "text": [
      "100%|██████████| 33402/33402 [00:02<00:00, 11147.85it/s]"
     ]
    },
    {
     "name": "stdout",
     "output_type": "stream",
     "text": [
      "Counter({1: 13861, 2: 10585, 3: 8497, 4: 7458, 5: 6882, 6: 5727, 7: 5595, 8: 5045, 0: 4894, 9: 4659})\n"
     ]
    },
    {
     "name": "stderr",
     "output_type": "stream",
     "text": [
      "\n"
     ]
    }
   ],
   "source": [
    "corr_train_images = mat2yolo(TRAIN_ANNOTATION_F, \"./data/yolo8_f/train\")\n",
    "#move_corrupted_images(corr_train_images, 'train')"
   ]
  },
  {
   "cell_type": "code",
   "execution_count": 6,
   "metadata": {},
   "outputs": [],
   "source": [
    "def draw_annotated_image(name, part):\n",
    "    images_dir = f\"./data/yolo8_f/{part}/images\"\n",
    "    labels_dir = f\"./data/yolo8_f/{part}/labels\"\n",
    "\n",
    "    with open(f\"{labels_dir}/{name}.txt\", 'r', encoding='utf-8') as fd:\n",
    "        info = fd.readlines() \n",
    "\n",
    "    img = Image.open(f\"{images_dir}/{name}.png\")\n",
    "    img_copy = img.copy()\n",
    "    img_w, img_h = img.size\n",
    "    draw = ImageDraw.Draw(img_copy)\n",
    "\n",
    "    for i in range(len(info)):\n",
    "        l, x1, y1, x2, y2 = list(map(float, info[i].strip().split(' ')))\n",
    "        draw.rectangle((x1*img_w, y1*img_h, x2*img_w, y2*img_h), outline=\"red\", width=1)\n",
    "\n",
    "    img_copy.show()"
   ]
  },
  {
   "cell_type": "code",
   "execution_count": 7,
   "metadata": {},
   "outputs": [],
   "source": [
    "draw_annotated_image('648', 'test')"
   ]
  },
  {
   "cell_type": "code",
   "execution_count": 13,
   "metadata": {},
   "outputs": [],
   "source": [
    "draw_annotated_image('2', 'train')"
   ]
  },
  {
   "cell_type": "code",
   "execution_count": null,
   "metadata": {},
   "outputs": [],
   "source": []
  }
 ],
 "metadata": {
  "kernelspec": {
   "display_name": "Python 3",
   "language": "python",
   "name": "python3"
  },
  "language_info": {
   "codemirror_mode": {
    "name": "ipython",
    "version": 3
   },
   "file_extension": ".py",
   "mimetype": "text/x-python",
   "name": "python",
   "nbconvert_exporter": "python",
   "pygments_lexer": "ipython3",
   "version": "3.11.4"
  }
 },
 "nbformat": 4,
 "nbformat_minor": 2
}
